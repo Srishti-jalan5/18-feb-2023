{
 "cells": [
  {
   "cell_type": "code",
   "execution_count": 2,
   "id": "388a4077-2900-4788-947a-b16afe651e5f",
   "metadata": {},
   "outputs": [
    {
     "ename": "SyntaxError",
     "evalue": "invalid syntax (1757621406.py, line 2)",
     "output_type": "error",
     "traceback": [
      "\u001b[0;36m  Cell \u001b[0;32mIn[2], line 2\u001b[0;36m\u001b[0m\n\u001b[0;31m    API - Application Program Interface\u001b[0m\n\u001b[0m                      ^\u001b[0m\n\u001b[0;31mSyntaxError\u001b[0m\u001b[0;31m:\u001b[0m invalid syntax\n"
     ]
    }
   ],
   "source": [
    "Q1\n",
    "API - Application Program Interface\n",
    "API is machanism which allows two components to communicate with each other using a set of protocol.\n",
    "example-searching for an website in google and can access thet website through google.\n",
    "real life example - using google map from cab app, getting project code from chat gpt."
   ]
  },
  {
   "cell_type": "code",
   "execution_count": 3,
   "id": "dbf2b849-4b6c-4113-a4c7-abf39d3861d7",
   "metadata": {},
   "outputs": [
    {
     "ename": "SyntaxError",
     "evalue": "invalid syntax (1904316310.py, line 2)",
     "output_type": "error",
     "traceback": [
      "\u001b[0;36m  Cell \u001b[0;32mIn[3], line 2\u001b[0;36m\u001b[0m\n\u001b[0;31m    advantage of API - Accessing data, Accessing services from millioans of indenpended sources,we can use some\u001b[0m\n\u001b[0m              ^\u001b[0m\n\u001b[0;31mSyntaxError\u001b[0m\u001b[0;31m:\u001b[0m invalid syntax\n"
     ]
    }
   ],
   "source": [
    "Q2\n",
    "advantage of API - Accessing data, Accessing services from millioans of indenpended sources,we can use some\n",
    "features without developing our own features.\n",
    "\n",
    "Distadvantage - Security consern like phishing, hack or cross connections.Maintainance and cost of using API."
   ]
  },
  {
   "cell_type": "code",
   "execution_count": null,
   "id": "e6edc6dc-2611-42c3-9cc2-870f3eb11df2",
   "metadata": {},
   "outputs": [],
   "source": [
    "Q3\n",
    "The Web API is an XML framefork for building HTTP based services that can\n",
    "be accessed in different applications.\n",
    "\n",
    "API - All API are not web API biu all web api are API.Web API supports XML and it does not have light weight\n",
    "architecture as data send or received over network wheras API is a light weight Architecture. WEB API Can \n",
    "comminicate through REST and SOAP while API Can use for any stle of communication.\n"
   ]
  },
  {
   "cell_type": "code",
   "execution_count": null,
   "id": "c8f712c6-a535-4414-ac15-163acc7c8f7e",
   "metadata": {},
   "outputs": [],
   "source": [
    "Q5\n",
    "The SOAP approach is highly structured and uses XML data format.\n",
    "REST is more scalable,flexible and allows applications to exchange data in multiple formats and hence rest is \n",
    "used more then SOAP.Rest is more simple to use than soap.\n"
   ]
  },
  {
   "cell_type": "code",
   "execution_count": null,
   "id": "bc5920b4-d59e-4c7e-8dbd-16f8ef2cc335",
   "metadata": {},
   "outputs": [],
   "source": [
    "Q4\n",
    "The REST architectural style uses HTTP to request access and use data.\n",
    "This allows for interaction with RESTful web services.\n",
    "\n",
    "SOAP is a protocol for the exchange of information in a distributed environment. \n",
    "SOAP messages are encoded as XML documents and can be exchanged using various protocols like HTTP,TCP/IP,SMTP.\n",
    "\n",
    "Shortcoming of SOAP API--\n",
    "1.complicated to use.\n",
    "2.No choice of data format\n",
    "3.Require high bandwidth"
   ]
  }
 ],
 "metadata": {
  "kernelspec": {
   "display_name": "Python 3 (ipykernel)",
   "language": "python",
   "name": "python3"
  },
  "language_info": {
   "codemirror_mode": {
    "name": "ipython",
    "version": 3
   },
   "file_extension": ".py",
   "mimetype": "text/x-python",
   "name": "python",
   "nbconvert_exporter": "python",
   "pygments_lexer": "ipython3",
   "version": "3.10.8"
  }
 },
 "nbformat": 4,
 "nbformat_minor": 5
}
